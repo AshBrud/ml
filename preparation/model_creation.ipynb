{
 "cells": [
  {
   "cell_type": "code",
   "execution_count": 1,
   "metadata": {},
   "outputs": [],
   "source": [
    "import pandas as pd\n",
    "import numpy as np\n",
    "import seaborn as sns\n",
    "import matplotlib.pyplot as plt\n",
    "import pickle"
   ]
  },
  {
   "cell_type": "code",
   "execution_count": 2,
   "metadata": {},
   "outputs": [
    {
     "data": {
      "text/html": [
       "<div>\n",
       "<style scoped>\n",
       "    .dataframe tbody tr th:only-of-type {\n",
       "        vertical-align: middle;\n",
       "    }\n",
       "\n",
       "    .dataframe tbody tr th {\n",
       "        vertical-align: top;\n",
       "    }\n",
       "\n",
       "    .dataframe thead th {\n",
       "        text-align: right;\n",
       "    }\n",
       "</style>\n",
       "<table border=\"1\" class=\"dataframe\">\n",
       "  <thead>\n",
       "    <tr style=\"text-align: right;\">\n",
       "      <th></th>\n",
       "      <th>1stFlrSF</th>\n",
       "      <th>2ndFlrSF</th>\n",
       "      <th>3SsnPorch</th>\n",
       "      <th>BedroomAbvGr</th>\n",
       "      <th>BldgType</th>\n",
       "      <th>BsmtCond</th>\n",
       "      <th>BsmtExposure</th>\n",
       "      <th>BsmtFinSF1</th>\n",
       "      <th>BsmtFinSF2</th>\n",
       "      <th>BsmtFinType1</th>\n",
       "      <th>...</th>\n",
       "      <th>SaleType</th>\n",
       "      <th>ScreenPorch</th>\n",
       "      <th>Street</th>\n",
       "      <th>TotRmsAbvGrd</th>\n",
       "      <th>TotalBsmtSF</th>\n",
       "      <th>Utilities</th>\n",
       "      <th>WoodDeckSF</th>\n",
       "      <th>YearBuilt</th>\n",
       "      <th>YearRemodAdd</th>\n",
       "      <th>YrSold</th>\n",
       "    </tr>\n",
       "  </thead>\n",
       "  <tbody>\n",
       "    <tr>\n",
       "      <th>0</th>\n",
       "      <td>6.753438</td>\n",
       "      <td>6.751101</td>\n",
       "      <td>0.0</td>\n",
       "      <td>1.386294</td>\n",
       "      <td>1Fam</td>\n",
       "      <td>3</td>\n",
       "      <td>-1</td>\n",
       "      <td>6.561031</td>\n",
       "      <td>0.0</td>\n",
       "      <td>6</td>\n",
       "      <td>...</td>\n",
       "      <td>WD</td>\n",
       "      <td>0.0</td>\n",
       "      <td>Pave</td>\n",
       "      <td>2.197225</td>\n",
       "      <td>6.753438</td>\n",
       "      <td>3</td>\n",
       "      <td>0.000000</td>\n",
       "      <td>2003</td>\n",
       "      <td>2003</td>\n",
       "      <td>2008</td>\n",
       "    </tr>\n",
       "    <tr>\n",
       "      <th>1</th>\n",
       "      <td>7.141245</td>\n",
       "      <td>0.000000</td>\n",
       "      <td>0.0</td>\n",
       "      <td>1.386294</td>\n",
       "      <td>1Fam</td>\n",
       "      <td>3</td>\n",
       "      <td>3</td>\n",
       "      <td>6.886532</td>\n",
       "      <td>0.0</td>\n",
       "      <td>5</td>\n",
       "      <td>...</td>\n",
       "      <td>WD</td>\n",
       "      <td>0.0</td>\n",
       "      <td>Pave</td>\n",
       "      <td>1.945910</td>\n",
       "      <td>7.141245</td>\n",
       "      <td>3</td>\n",
       "      <td>5.700444</td>\n",
       "      <td>1976</td>\n",
       "      <td>1976</td>\n",
       "      <td>2007</td>\n",
       "    </tr>\n",
       "    <tr>\n",
       "      <th>2</th>\n",
       "      <td>6.825460</td>\n",
       "      <td>6.765039</td>\n",
       "      <td>0.0</td>\n",
       "      <td>1.386294</td>\n",
       "      <td>1Fam</td>\n",
       "      <td>3</td>\n",
       "      <td>1</td>\n",
       "      <td>6.188264</td>\n",
       "      <td>0.0</td>\n",
       "      <td>6</td>\n",
       "      <td>...</td>\n",
       "      <td>WD</td>\n",
       "      <td>0.0</td>\n",
       "      <td>Pave</td>\n",
       "      <td>1.945910</td>\n",
       "      <td>6.825460</td>\n",
       "      <td>3</td>\n",
       "      <td>0.000000</td>\n",
       "      <td>2001</td>\n",
       "      <td>2002</td>\n",
       "      <td>2008</td>\n",
       "    </tr>\n",
       "    <tr>\n",
       "      <th>3</th>\n",
       "      <td>6.869014</td>\n",
       "      <td>6.629363</td>\n",
       "      <td>0.0</td>\n",
       "      <td>1.386294</td>\n",
       "      <td>1Fam</td>\n",
       "      <td>4</td>\n",
       "      <td>-1</td>\n",
       "      <td>5.379897</td>\n",
       "      <td>0.0</td>\n",
       "      <td>5</td>\n",
       "      <td>...</td>\n",
       "      <td>WD</td>\n",
       "      <td>0.0</td>\n",
       "      <td>Pave</td>\n",
       "      <td>2.079442</td>\n",
       "      <td>6.629363</td>\n",
       "      <td>3</td>\n",
       "      <td>0.000000</td>\n",
       "      <td>1915</td>\n",
       "      <td>1970</td>\n",
       "      <td>2006</td>\n",
       "    </tr>\n",
       "    <tr>\n",
       "      <th>4</th>\n",
       "      <td>7.044033</td>\n",
       "      <td>6.960348</td>\n",
       "      <td>0.0</td>\n",
       "      <td>1.609438</td>\n",
       "      <td>1Fam</td>\n",
       "      <td>3</td>\n",
       "      <td>2</td>\n",
       "      <td>6.486161</td>\n",
       "      <td>0.0</td>\n",
       "      <td>6</td>\n",
       "      <td>...</td>\n",
       "      <td>WD</td>\n",
       "      <td>0.0</td>\n",
       "      <td>Pave</td>\n",
       "      <td>2.302585</td>\n",
       "      <td>7.044033</td>\n",
       "      <td>3</td>\n",
       "      <td>5.262690</td>\n",
       "      <td>2000</td>\n",
       "      <td>2000</td>\n",
       "      <td>2008</td>\n",
       "    </tr>\n",
       "  </tbody>\n",
       "</table>\n",
       "<p>5 rows × 74 columns</p>\n",
       "</div>"
      ],
      "text/plain": [
       "   1stFlrSF  2ndFlrSF  3SsnPorch  BedroomAbvGr BldgType  BsmtCond  \\\n",
       "0  6.753438  6.751101        0.0      1.386294     1Fam         3   \n",
       "1  7.141245  0.000000        0.0      1.386294     1Fam         3   \n",
       "2  6.825460  6.765039        0.0      1.386294     1Fam         3   \n",
       "3  6.869014  6.629363        0.0      1.386294     1Fam         4   \n",
       "4  7.044033  6.960348        0.0      1.609438     1Fam         3   \n",
       "\n",
       "   BsmtExposure  BsmtFinSF1  BsmtFinSF2  BsmtFinType1  ...  SaleType  \\\n",
       "0            -1    6.561031         0.0             6  ...        WD   \n",
       "1             3    6.886532         0.0             5  ...        WD   \n",
       "2             1    6.188264         0.0             6  ...        WD   \n",
       "3            -1    5.379897         0.0             5  ...        WD   \n",
       "4             2    6.486161         0.0             6  ...        WD   \n",
       "\n",
       "   ScreenPorch  Street  TotRmsAbvGrd  TotalBsmtSF Utilities WoodDeckSF  \\\n",
       "0          0.0    Pave      2.197225     6.753438         3   0.000000   \n",
       "1          0.0    Pave      1.945910     7.141245         3   5.700444   \n",
       "2          0.0    Pave      1.945910     6.825460         3   0.000000   \n",
       "3          0.0    Pave      2.079442     6.629363         3   0.000000   \n",
       "4          0.0    Pave      2.302585     7.044033         3   5.262690   \n",
       "\n",
       "  YearBuilt YearRemodAdd  YrSold  \n",
       "0      2003         2003    2008  \n",
       "1      1976         1976    2007  \n",
       "2      2001         2002    2008  \n",
       "3      1915         1970    2006  \n",
       "4      2000         2000    2008  \n",
       "\n",
       "[5 rows x 74 columns]"
      ]
     },
     "execution_count": 2,
     "metadata": {},
     "output_type": "execute_result"
    }
   ],
   "source": [
    "clean_data = pd.read_csv('clean_data.csv')\n",
    "clean_data.head()"
   ]
  },
  {
   "attachments": {},
   "cell_type": "markdown",
   "metadata": {},
   "source": [
    "# Voici les variables importantes pour nos prédictions"
   ]
  },
  {
   "cell_type": "code",
   "execution_count": 3,
   "metadata": {},
   "outputs": [],
   "source": [
    "var = ['OverallQual', 'ExterQual', 'Neighborhood', 'GarageCars', 'GrLivArea', 'YearBuilt', 'TotalBsmtSF', 'BsmtQual', 'GarageArea', 'KitchenQual', '1stFlrSF', 'FullBath', 'SalePrice']"
   ]
  },
  {
   "attachments": {},
   "cell_type": "markdown",
   "metadata": {},
   "source": [
    "## Réduction des données\n",
    "Nous allons reduires nos données à ceci qui est le plus important pour nous"
   ]
  },
  {
   "cell_type": "code",
   "execution_count": 4,
   "metadata": {},
   "outputs": [],
   "source": [
    "def is_there(elt, data):\n",
    "    test = []\n",
    "    exception = []\n",
    "    for e in elt:\n",
    "        test.append(e in data.columns)\n",
    "        if not(e in data.columns): exception.append(e)\n",
    "\n",
    "    return {\n",
    "        'liste':test,\n",
    "        'ex': exception\n",
    "    }"
   ]
  },
  {
   "attachments": {},
   "cell_type": "markdown",
   "metadata": {},
   "source": [
    "### Vérifications\n",
    "Vérifions que toutes les titres à récupérer existent dans la dataFrame"
   ]
  },
  {
   "cell_type": "code",
   "execution_count": 5,
   "metadata": {},
   "outputs": [],
   "source": [
    "data_checking = is_there(var, clean_data)"
   ]
  },
  {
   "cell_type": "code",
   "execution_count": 6,
   "metadata": {},
   "outputs": [
    {
     "data": {
      "text/plain": [
       "[True, True, True, True, True, True, True, True, True, True, True, True, False]"
      ]
     },
     "execution_count": 6,
     "metadata": {},
     "output_type": "execute_result"
    }
   ],
   "source": [
    "data_checking['liste']"
   ]
  },
  {
   "cell_type": "code",
   "execution_count": 7,
   "metadata": {},
   "outputs": [
    {
     "data": {
      "text/plain": [
       "['SalePrice']"
      ]
     },
     "execution_count": 7,
     "metadata": {},
     "output_type": "execute_result"
    }
   ],
   "source": [
    "data_checking['ex']"
   ]
  },
  {
   "attachments": {},
   "cell_type": "markdown",
   "metadata": {},
   "source": [
    "### Soustration des titres d'exception dans var"
   ]
  },
  {
   "cell_type": "code",
   "execution_count": 8,
   "metadata": {},
   "outputs": [
    {
     "data": {
      "text/plain": [
       "12"
      ]
     },
     "execution_count": 8,
     "metadata": {},
     "output_type": "execute_result"
    }
   ],
   "source": [
    "for e in data_checking['ex']:\n",
    "    if e in var:\n",
    "        del var[var.index(e)]\n",
    "\n",
    "len(var)"
   ]
  },
  {
   "attachments": {},
   "cell_type": "markdown",
   "metadata": {},
   "source": [
    "## Récupérations des colonnes qui nous intéressent"
   ]
  },
  {
   "cell_type": "code",
   "execution_count": 9,
   "metadata": {},
   "outputs": [
    {
     "data": {
      "text/html": [
       "<div>\n",
       "<style scoped>\n",
       "    .dataframe tbody tr th:only-of-type {\n",
       "        vertical-align: middle;\n",
       "    }\n",
       "\n",
       "    .dataframe tbody tr th {\n",
       "        vertical-align: top;\n",
       "    }\n",
       "\n",
       "    .dataframe thead th {\n",
       "        text-align: right;\n",
       "    }\n",
       "</style>\n",
       "<table border=\"1\" class=\"dataframe\">\n",
       "  <thead>\n",
       "    <tr style=\"text-align: right;\">\n",
       "      <th></th>\n",
       "      <th>OverallQual</th>\n",
       "      <th>ExterQual</th>\n",
       "      <th>Neighborhood</th>\n",
       "      <th>GarageCars</th>\n",
       "      <th>GrLivArea</th>\n",
       "      <th>YearBuilt</th>\n",
       "      <th>TotalBsmtSF</th>\n",
       "      <th>BsmtQual</th>\n",
       "      <th>GarageArea</th>\n",
       "      <th>KitchenQual</th>\n",
       "      <th>1stFlrSF</th>\n",
       "      <th>FullBath</th>\n",
       "    </tr>\n",
       "  </thead>\n",
       "  <tbody>\n",
       "    <tr>\n",
       "      <th>0</th>\n",
       "      <td>7</td>\n",
       "      <td>3</td>\n",
       "      <td>CollgCr</td>\n",
       "      <td>1.098612</td>\n",
       "      <td>7.444833</td>\n",
       "      <td>2003</td>\n",
       "      <td>6.753438</td>\n",
       "      <td>4</td>\n",
       "      <td>6.308098</td>\n",
       "      <td>3</td>\n",
       "      <td>6.753438</td>\n",
       "      <td>1.098612</td>\n",
       "    </tr>\n",
       "    <tr>\n",
       "      <th>1</th>\n",
       "      <td>6</td>\n",
       "      <td>2</td>\n",
       "      <td>Veenker</td>\n",
       "      <td>1.098612</td>\n",
       "      <td>7.141245</td>\n",
       "      <td>1976</td>\n",
       "      <td>7.141245</td>\n",
       "      <td>4</td>\n",
       "      <td>6.133398</td>\n",
       "      <td>2</td>\n",
       "      <td>7.141245</td>\n",
       "      <td>1.098612</td>\n",
       "    </tr>\n",
       "    <tr>\n",
       "      <th>2</th>\n",
       "      <td>7</td>\n",
       "      <td>3</td>\n",
       "      <td>CollgCr</td>\n",
       "      <td>1.098612</td>\n",
       "      <td>7.488294</td>\n",
       "      <td>2001</td>\n",
       "      <td>6.825460</td>\n",
       "      <td>4</td>\n",
       "      <td>6.411818</td>\n",
       "      <td>3</td>\n",
       "      <td>6.825460</td>\n",
       "      <td>1.098612</td>\n",
       "    </tr>\n",
       "    <tr>\n",
       "      <th>3</th>\n",
       "      <td>7</td>\n",
       "      <td>2</td>\n",
       "      <td>Crawfor</td>\n",
       "      <td>1.386294</td>\n",
       "      <td>7.448916</td>\n",
       "      <td>1915</td>\n",
       "      <td>6.629363</td>\n",
       "      <td>3</td>\n",
       "      <td>6.466145</td>\n",
       "      <td>3</td>\n",
       "      <td>6.869014</td>\n",
       "      <td>0.693147</td>\n",
       "    </tr>\n",
       "    <tr>\n",
       "      <th>4</th>\n",
       "      <td>8</td>\n",
       "      <td>3</td>\n",
       "      <td>NoRidge</td>\n",
       "      <td>1.386294</td>\n",
       "      <td>7.695758</td>\n",
       "      <td>2000</td>\n",
       "      <td>7.044033</td>\n",
       "      <td>4</td>\n",
       "      <td>6.729824</td>\n",
       "      <td>3</td>\n",
       "      <td>7.044033</td>\n",
       "      <td>1.098612</td>\n",
       "    </tr>\n",
       "  </tbody>\n",
       "</table>\n",
       "</div>"
      ],
      "text/plain": [
       "   OverallQual  ExterQual Neighborhood  GarageCars  GrLivArea  YearBuilt  \\\n",
       "0            7          3      CollgCr    1.098612   7.444833       2003   \n",
       "1            6          2      Veenker    1.098612   7.141245       1976   \n",
       "2            7          3      CollgCr    1.098612   7.488294       2001   \n",
       "3            7          2      Crawfor    1.386294   7.448916       1915   \n",
       "4            8          3      NoRidge    1.386294   7.695758       2000   \n",
       "\n",
       "   TotalBsmtSF  BsmtQual  GarageArea  KitchenQual  1stFlrSF  FullBath  \n",
       "0     6.753438         4    6.308098            3  6.753438  1.098612  \n",
       "1     7.141245         4    6.133398            2  7.141245  1.098612  \n",
       "2     6.825460         4    6.411818            3  6.825460  1.098612  \n",
       "3     6.629363         3    6.466145            3  6.869014  0.693147  \n",
       "4     7.044033         4    6.729824            3  7.044033  1.098612  "
      ]
     },
     "execution_count": 9,
     "metadata": {},
     "output_type": "execute_result"
    }
   ],
   "source": [
    "df = clean_data[var]\n",
    "df.head()"
   ]
  },
  {
   "attachments": {},
   "cell_type": "markdown",
   "metadata": {},
   "source": [
    "## Renommer les titres mal écrits dans la DataFrame"
   ]
  },
  {
   "attachments": {},
   "cell_type": "markdown",
   "metadata": {},
   "source": [
    "### Recupération des titres du dataFrame"
   ]
  },
  {
   "cell_type": "code",
   "execution_count": 10,
   "metadata": {},
   "outputs": [
    {
     "data": {
      "text/plain": [
       "Index(['OverallQual', 'ExterQual', 'Neighborhood', 'GarageCars', 'GrLivArea',\n",
       "       'YearBuilt', 'TotalBsmtSF', 'BsmtQual', 'GarageArea', 'KitchenQual',\n",
       "       '1stFlrSF', 'FullBath'],\n",
       "      dtype='object')"
      ]
     },
     "execution_count": 10,
     "metadata": {},
     "output_type": "execute_result"
    }
   ],
   "source": [
    "title = df.columns\n",
    "title"
   ]
  },
  {
   "attachments": {},
   "cell_type": "markdown",
   "metadata": {},
   "source": [
    "### Fonction de detection des titres mal écrits"
   ]
  },
  {
   "cell_type": "code",
   "execution_count": 11,
   "metadata": {},
   "outputs": [
    {
     "data": {
      "text/plain": [
       "['1stFlrSF']"
      ]
     },
     "execution_count": 11,
     "metadata": {},
     "output_type": "execute_result"
    }
   ],
   "source": [
    "def detect_var(elt):\n",
    "    ret = []\n",
    "    for e in elt:\n",
    "        if e[0].isnumeric(): \n",
    "            ret.append(e)\n",
    "    return ret\n",
    "\n",
    "to_change = detect_var(title)\n",
    "to_change"
   ]
  },
  {
   "attachments": {},
   "cell_type": "markdown",
   "metadata": {},
   "source": [
    "### Fonction pour créer l'objet de changement"
   ]
  },
  {
   "cell_type": "code",
   "execution_count": 12,
   "metadata": {},
   "outputs": [
    {
     "data": {
      "text/plain": [
       "{'1stFlrSF': 'stFlrSF'}"
      ]
     },
     "execution_count": 12,
     "metadata": {},
     "output_type": "execute_result"
    }
   ],
   "source": [
    "def obj_generator(elt_list):\n",
    "    obj_to_return = {}\n",
    "    for e in elt_list:\n",
    "        obj_to_return[e] = e[1:]\n",
    "    \n",
    "    return obj_to_return\n",
    "\n",
    "obj_to_change = obj_generator(to_change)\n",
    "obj_to_change"
   ]
  },
  {
   "attachments": {},
   "cell_type": "markdown",
   "metadata": {},
   "source": [
    "### Remplacement des titres"
   ]
  },
  {
   "cell_type": "code",
   "execution_count": 13,
   "metadata": {},
   "outputs": [
    {
     "data": {
      "text/html": [
       "<div>\n",
       "<style scoped>\n",
       "    .dataframe tbody tr th:only-of-type {\n",
       "        vertical-align: middle;\n",
       "    }\n",
       "\n",
       "    .dataframe tbody tr th {\n",
       "        vertical-align: top;\n",
       "    }\n",
       "\n",
       "    .dataframe thead th {\n",
       "        text-align: right;\n",
       "    }\n",
       "</style>\n",
       "<table border=\"1\" class=\"dataframe\">\n",
       "  <thead>\n",
       "    <tr style=\"text-align: right;\">\n",
       "      <th></th>\n",
       "      <th>OverallQual</th>\n",
       "      <th>ExterQual</th>\n",
       "      <th>Neighborhood</th>\n",
       "      <th>GarageCars</th>\n",
       "      <th>GrLivArea</th>\n",
       "      <th>YearBuilt</th>\n",
       "      <th>TotalBsmtSF</th>\n",
       "      <th>BsmtQual</th>\n",
       "      <th>GarageArea</th>\n",
       "      <th>KitchenQual</th>\n",
       "      <th>stFlrSF</th>\n",
       "      <th>FullBath</th>\n",
       "    </tr>\n",
       "  </thead>\n",
       "  <tbody>\n",
       "    <tr>\n",
       "      <th>0</th>\n",
       "      <td>7</td>\n",
       "      <td>3</td>\n",
       "      <td>CollgCr</td>\n",
       "      <td>1.098612</td>\n",
       "      <td>7.444833</td>\n",
       "      <td>2003</td>\n",
       "      <td>6.753438</td>\n",
       "      <td>4</td>\n",
       "      <td>6.308098</td>\n",
       "      <td>3</td>\n",
       "      <td>6.753438</td>\n",
       "      <td>1.098612</td>\n",
       "    </tr>\n",
       "    <tr>\n",
       "      <th>1</th>\n",
       "      <td>6</td>\n",
       "      <td>2</td>\n",
       "      <td>Veenker</td>\n",
       "      <td>1.098612</td>\n",
       "      <td>7.141245</td>\n",
       "      <td>1976</td>\n",
       "      <td>7.141245</td>\n",
       "      <td>4</td>\n",
       "      <td>6.133398</td>\n",
       "      <td>2</td>\n",
       "      <td>7.141245</td>\n",
       "      <td>1.098612</td>\n",
       "    </tr>\n",
       "    <tr>\n",
       "      <th>2</th>\n",
       "      <td>7</td>\n",
       "      <td>3</td>\n",
       "      <td>CollgCr</td>\n",
       "      <td>1.098612</td>\n",
       "      <td>7.488294</td>\n",
       "      <td>2001</td>\n",
       "      <td>6.825460</td>\n",
       "      <td>4</td>\n",
       "      <td>6.411818</td>\n",
       "      <td>3</td>\n",
       "      <td>6.825460</td>\n",
       "      <td>1.098612</td>\n",
       "    </tr>\n",
       "    <tr>\n",
       "      <th>3</th>\n",
       "      <td>7</td>\n",
       "      <td>2</td>\n",
       "      <td>Crawfor</td>\n",
       "      <td>1.386294</td>\n",
       "      <td>7.448916</td>\n",
       "      <td>1915</td>\n",
       "      <td>6.629363</td>\n",
       "      <td>3</td>\n",
       "      <td>6.466145</td>\n",
       "      <td>3</td>\n",
       "      <td>6.869014</td>\n",
       "      <td>0.693147</td>\n",
       "    </tr>\n",
       "    <tr>\n",
       "      <th>4</th>\n",
       "      <td>8</td>\n",
       "      <td>3</td>\n",
       "      <td>NoRidge</td>\n",
       "      <td>1.386294</td>\n",
       "      <td>7.695758</td>\n",
       "      <td>2000</td>\n",
       "      <td>7.044033</td>\n",
       "      <td>4</td>\n",
       "      <td>6.729824</td>\n",
       "      <td>3</td>\n",
       "      <td>7.044033</td>\n",
       "      <td>1.098612</td>\n",
       "    </tr>\n",
       "  </tbody>\n",
       "</table>\n",
       "</div>"
      ],
      "text/plain": [
       "   OverallQual  ExterQual Neighborhood  GarageCars  GrLivArea  YearBuilt  \\\n",
       "0            7          3      CollgCr    1.098612   7.444833       2003   \n",
       "1            6          2      Veenker    1.098612   7.141245       1976   \n",
       "2            7          3      CollgCr    1.098612   7.488294       2001   \n",
       "3            7          2      Crawfor    1.386294   7.448916       1915   \n",
       "4            8          3      NoRidge    1.386294   7.695758       2000   \n",
       "\n",
       "   TotalBsmtSF  BsmtQual  GarageArea  KitchenQual   stFlrSF  FullBath  \n",
       "0     6.753438         4    6.308098            3  6.753438  1.098612  \n",
       "1     7.141245         4    6.133398            2  7.141245  1.098612  \n",
       "2     6.825460         4    6.411818            3  6.825460  1.098612  \n",
       "3     6.629363         3    6.466145            3  6.869014  0.693147  \n",
       "4     7.044033         4    6.729824            3  7.044033  1.098612  "
      ]
     },
     "execution_count": 13,
     "metadata": {},
     "output_type": "execute_result"
    }
   ],
   "source": [
    "df = df.rename(obj_to_change, axis=1)\n",
    "df.head()"
   ]
  },
  {
   "attachments": {},
   "cell_type": "markdown",
   "metadata": {},
   "source": [
    "# Analyse des valeurs des colonnes\n",
    "Nous allons vérifier la quantité des valeurs que chaque colonne contient"
   ]
  },
  {
   "attachments": {},
   "cell_type": "markdown",
   "metadata": {},
   "source": [
    "### Functions utiles"
   ]
  },
  {
   "cell_type": "code",
   "execution_count": 14,
   "metadata": {},
   "outputs": [],
   "source": [
    "def col_select(start, end, data_frame):\n",
    "    return data_frame.columns[list(range(start, end+1))]\n",
    "\n",
    "def data_col_select(start, end, data_frame):\n",
    "    return data_frame[col_select(start, end, data_frame)]\n",
    "\n",
    "def data_col_del(col, data, inplace_var = False):\n",
    "    return data.drop(col, axis=1, inplace = inplace_var)"
   ]
  },
  {
   "cell_type": "code",
   "execution_count": 15,
   "metadata": {},
   "outputs": [
    {
     "data": {
      "text/html": [
       "<div>\n",
       "<style scoped>\n",
       "    .dataframe tbody tr th:only-of-type {\n",
       "        vertical-align: middle;\n",
       "    }\n",
       "\n",
       "    .dataframe tbody tr th {\n",
       "        vertical-align: top;\n",
       "    }\n",
       "\n",
       "    .dataframe thead th {\n",
       "        text-align: right;\n",
       "    }\n",
       "</style>\n",
       "<table border=\"1\" class=\"dataframe\">\n",
       "  <thead>\n",
       "    <tr style=\"text-align: right;\">\n",
       "      <th></th>\n",
       "      <th>OverallQual</th>\n",
       "      <th>ExterQual</th>\n",
       "      <th>Neighborhood</th>\n",
       "      <th>GarageCars</th>\n",
       "      <th>GrLivArea</th>\n",
       "      <th>YearBuilt</th>\n",
       "      <th>TotalBsmtSF</th>\n",
       "      <th>BsmtQual</th>\n",
       "      <th>GarageArea</th>\n",
       "      <th>KitchenQual</th>\n",
       "      <th>stFlrSF</th>\n",
       "      <th>FullBath</th>\n",
       "    </tr>\n",
       "  </thead>\n",
       "  <tbody>\n",
       "    <tr>\n",
       "      <th>0</th>\n",
       "      <td>7</td>\n",
       "      <td>3</td>\n",
       "      <td>CollgCr</td>\n",
       "      <td>1.098612</td>\n",
       "      <td>7.444833</td>\n",
       "      <td>2003</td>\n",
       "      <td>6.753438</td>\n",
       "      <td>4</td>\n",
       "      <td>6.308098</td>\n",
       "      <td>3</td>\n",
       "      <td>6.753438</td>\n",
       "      <td>1.098612</td>\n",
       "    </tr>\n",
       "    <tr>\n",
       "      <th>1</th>\n",
       "      <td>6</td>\n",
       "      <td>2</td>\n",
       "      <td>Veenker</td>\n",
       "      <td>1.098612</td>\n",
       "      <td>7.141245</td>\n",
       "      <td>1976</td>\n",
       "      <td>7.141245</td>\n",
       "      <td>4</td>\n",
       "      <td>6.133398</td>\n",
       "      <td>2</td>\n",
       "      <td>7.141245</td>\n",
       "      <td>1.098612</td>\n",
       "    </tr>\n",
       "    <tr>\n",
       "      <th>2</th>\n",
       "      <td>7</td>\n",
       "      <td>3</td>\n",
       "      <td>CollgCr</td>\n",
       "      <td>1.098612</td>\n",
       "      <td>7.488294</td>\n",
       "      <td>2001</td>\n",
       "      <td>6.825460</td>\n",
       "      <td>4</td>\n",
       "      <td>6.411818</td>\n",
       "      <td>3</td>\n",
       "      <td>6.825460</td>\n",
       "      <td>1.098612</td>\n",
       "    </tr>\n",
       "    <tr>\n",
       "      <th>3</th>\n",
       "      <td>7</td>\n",
       "      <td>2</td>\n",
       "      <td>Crawfor</td>\n",
       "      <td>1.386294</td>\n",
       "      <td>7.448916</td>\n",
       "      <td>1915</td>\n",
       "      <td>6.629363</td>\n",
       "      <td>3</td>\n",
       "      <td>6.466145</td>\n",
       "      <td>3</td>\n",
       "      <td>6.869014</td>\n",
       "      <td>0.693147</td>\n",
       "    </tr>\n",
       "    <tr>\n",
       "      <th>4</th>\n",
       "      <td>8</td>\n",
       "      <td>3</td>\n",
       "      <td>NoRidge</td>\n",
       "      <td>1.386294</td>\n",
       "      <td>7.695758</td>\n",
       "      <td>2000</td>\n",
       "      <td>7.044033</td>\n",
       "      <td>4</td>\n",
       "      <td>6.729824</td>\n",
       "      <td>3</td>\n",
       "      <td>7.044033</td>\n",
       "      <td>1.098612</td>\n",
       "    </tr>\n",
       "  </tbody>\n",
       "</table>\n",
       "</div>"
      ],
      "text/plain": [
       "   OverallQual  ExterQual Neighborhood  GarageCars  GrLivArea  YearBuilt  \\\n",
       "0            7          3      CollgCr    1.098612   7.444833       2003   \n",
       "1            6          2      Veenker    1.098612   7.141245       1976   \n",
       "2            7          3      CollgCr    1.098612   7.488294       2001   \n",
       "3            7          2      Crawfor    1.386294   7.448916       1915   \n",
       "4            8          3      NoRidge    1.386294   7.695758       2000   \n",
       "\n",
       "   TotalBsmtSF  BsmtQual  GarageArea  KitchenQual   stFlrSF  FullBath  \n",
       "0     6.753438         4    6.308098            3  6.753438  1.098612  \n",
       "1     7.141245         4    6.133398            2  7.141245  1.098612  \n",
       "2     6.825460         4    6.411818            3  6.825460  1.098612  \n",
       "3     6.629363         3    6.466145            3  6.869014  0.693147  \n",
       "4     7.044033         4    6.729824            3  7.044033  1.098612  "
      ]
     },
     "execution_count": 15,
     "metadata": {},
     "output_type": "execute_result"
    }
   ],
   "source": [
    "df.head()"
   ]
  },
  {
   "cell_type": "code",
   "execution_count": 16,
   "metadata": {},
   "outputs": [
    {
     "name": "stdout",
     "output_type": "stream",
     "text": [
      "<class 'pandas.core.frame.DataFrame'>\n",
      "RangeIndex: 2919 entries, 0 to 2918\n",
      "Data columns (total 12 columns):\n",
      " #   Column        Non-Null Count  Dtype  \n",
      "---  ------        --------------  -----  \n",
      " 0   OverallQual   2919 non-null   int64  \n",
      " 1   ExterQual     2919 non-null   int64  \n",
      " 2   Neighborhood  2919 non-null   object \n",
      " 3   GarageCars    2919 non-null   float64\n",
      " 4   GrLivArea     2919 non-null   float64\n",
      " 5   YearBuilt     2919 non-null   int64  \n",
      " 6   TotalBsmtSF   2919 non-null   float64\n",
      " 7   BsmtQual      2919 non-null   int64  \n",
      " 8   GarageArea    2919 non-null   float64\n",
      " 9   KitchenQual   2919 non-null   int64  \n",
      " 10  stFlrSF       2919 non-null   float64\n",
      " 11  FullBath      2919 non-null   float64\n",
      "dtypes: float64(6), int64(5), object(1)\n",
      "memory usage: 273.8+ KB\n"
     ]
    }
   ],
   "source": [
    "df.info()"
   ]
  },
  {
   "cell_type": "code",
   "execution_count": 17,
   "metadata": {},
   "outputs": [
    {
     "data": {
      "text/plain": [
       "(2919, 12)"
      ]
     },
     "execution_count": 17,
     "metadata": {},
     "output_type": "execute_result"
    }
   ],
   "source": [
    "df.shape"
   ]
  },
  {
   "cell_type": "code",
   "execution_count": 18,
   "metadata": {},
   "outputs": [
    {
     "data": {
      "text/html": [
       "<div>\n",
       "<style scoped>\n",
       "    .dataframe tbody tr th:only-of-type {\n",
       "        vertical-align: middle;\n",
       "    }\n",
       "\n",
       "    .dataframe tbody tr th {\n",
       "        vertical-align: top;\n",
       "    }\n",
       "\n",
       "    .dataframe thead th {\n",
       "        text-align: right;\n",
       "    }\n",
       "</style>\n",
       "<table border=\"1\" class=\"dataframe\">\n",
       "  <thead>\n",
       "    <tr style=\"text-align: right;\">\n",
       "      <th></th>\n",
       "      <th>OverallQual</th>\n",
       "      <th>ExterQual</th>\n",
       "      <th>GarageCars</th>\n",
       "      <th>GrLivArea</th>\n",
       "      <th>YearBuilt</th>\n",
       "      <th>TotalBsmtSF</th>\n",
       "      <th>BsmtQual</th>\n",
       "      <th>GarageArea</th>\n",
       "      <th>KitchenQual</th>\n",
       "      <th>stFlrSF</th>\n",
       "      <th>FullBath</th>\n",
       "    </tr>\n",
       "  </thead>\n",
       "  <tbody>\n",
       "    <tr>\n",
       "      <th>count</th>\n",
       "      <td>2919.000000</td>\n",
       "      <td>2919.000000</td>\n",
       "      <td>2919.000000</td>\n",
       "      <td>2919.000000</td>\n",
       "      <td>2919.000000</td>\n",
       "      <td>2919.000000</td>\n",
       "      <td>2919.000000</td>\n",
       "      <td>2919.000000</td>\n",
       "      <td>2919.000000</td>\n",
       "      <td>2919.000000</td>\n",
       "      <td>2919.000000</td>\n",
       "    </tr>\n",
       "    <tr>\n",
       "      <th>mean</th>\n",
       "      <td>6.089072</td>\n",
       "      <td>2.396711</td>\n",
       "      <td>0.971629</td>\n",
       "      <td>7.261502</td>\n",
       "      <td>1971.312778</td>\n",
       "      <td>6.730833</td>\n",
       "      <td>3.479616</td>\n",
       "      <td>5.814763</td>\n",
       "      <td>2.510791</td>\n",
       "      <td>7.004186</td>\n",
       "      <td>0.919276</td>\n",
       "    </tr>\n",
       "    <tr>\n",
       "      <th>std</th>\n",
       "      <td>1.409947</td>\n",
       "      <td>0.580293</td>\n",
       "      <td>0.323623</td>\n",
       "      <td>0.324750</td>\n",
       "      <td>30.291442</td>\n",
       "      <td>1.182460</td>\n",
       "      <td>0.900943</td>\n",
       "      <td>1.435658</td>\n",
       "      <td>0.662159</td>\n",
       "      <td>0.322650</td>\n",
       "      <td>0.220712</td>\n",
       "    </tr>\n",
       "    <tr>\n",
       "      <th>min</th>\n",
       "      <td>1.000000</td>\n",
       "      <td>1.000000</td>\n",
       "      <td>0.000000</td>\n",
       "      <td>5.814131</td>\n",
       "      <td>1872.000000</td>\n",
       "      <td>0.000000</td>\n",
       "      <td>0.000000</td>\n",
       "      <td>0.000000</td>\n",
       "      <td>1.000000</td>\n",
       "      <td>5.814131</td>\n",
       "      <td>0.000000</td>\n",
       "    </tr>\n",
       "    <tr>\n",
       "      <th>25%</th>\n",
       "      <td>5.000000</td>\n",
       "      <td>2.000000</td>\n",
       "      <td>0.693147</td>\n",
       "      <td>7.027315</td>\n",
       "      <td>1953.500000</td>\n",
       "      <td>6.677083</td>\n",
       "      <td>3.000000</td>\n",
       "      <td>5.771441</td>\n",
       "      <td>2.000000</td>\n",
       "      <td>6.776507</td>\n",
       "      <td>0.693147</td>\n",
       "    </tr>\n",
       "    <tr>\n",
       "      <th>50%</th>\n",
       "      <td>6.000000</td>\n",
       "      <td>2.000000</td>\n",
       "      <td>1.098612</td>\n",
       "      <td>7.275865</td>\n",
       "      <td>1973.000000</td>\n",
       "      <td>6.897705</td>\n",
       "      <td>4.000000</td>\n",
       "      <td>6.175867</td>\n",
       "      <td>2.000000</td>\n",
       "      <td>6.987490</td>\n",
       "      <td>1.098612</td>\n",
       "    </tr>\n",
       "    <tr>\n",
       "      <th>75%</th>\n",
       "      <td>7.000000</td>\n",
       "      <td>3.000000</td>\n",
       "      <td>1.098612</td>\n",
       "      <td>7.464223</td>\n",
       "      <td>2001.000000</td>\n",
       "      <td>7.172425</td>\n",
       "      <td>4.000000</td>\n",
       "      <td>6.357842</td>\n",
       "      <td>3.000000</td>\n",
       "      <td>7.235979</td>\n",
       "      <td>1.098612</td>\n",
       "    </tr>\n",
       "    <tr>\n",
       "      <th>max</th>\n",
       "      <td>10.000000</td>\n",
       "      <td>4.000000</td>\n",
       "      <td>1.791759</td>\n",
       "      <td>8.638171</td>\n",
       "      <td>2010.000000</td>\n",
       "      <td>8.717846</td>\n",
       "      <td>5.000000</td>\n",
       "      <td>7.305860</td>\n",
       "      <td>4.000000</td>\n",
       "      <td>8.536211</td>\n",
       "      <td>1.609438</td>\n",
       "    </tr>\n",
       "  </tbody>\n",
       "</table>\n",
       "</div>"
      ],
      "text/plain": [
       "       OverallQual    ExterQual   GarageCars    GrLivArea    YearBuilt  \\\n",
       "count  2919.000000  2919.000000  2919.000000  2919.000000  2919.000000   \n",
       "mean      6.089072     2.396711     0.971629     7.261502  1971.312778   \n",
       "std       1.409947     0.580293     0.323623     0.324750    30.291442   \n",
       "min       1.000000     1.000000     0.000000     5.814131  1872.000000   \n",
       "25%       5.000000     2.000000     0.693147     7.027315  1953.500000   \n",
       "50%       6.000000     2.000000     1.098612     7.275865  1973.000000   \n",
       "75%       7.000000     3.000000     1.098612     7.464223  2001.000000   \n",
       "max      10.000000     4.000000     1.791759     8.638171  2010.000000   \n",
       "\n",
       "       TotalBsmtSF     BsmtQual   GarageArea  KitchenQual      stFlrSF  \\\n",
       "count  2919.000000  2919.000000  2919.000000  2919.000000  2919.000000   \n",
       "mean      6.730833     3.479616     5.814763     2.510791     7.004186   \n",
       "std       1.182460     0.900943     1.435658     0.662159     0.322650   \n",
       "min       0.000000     0.000000     0.000000     1.000000     5.814131   \n",
       "25%       6.677083     3.000000     5.771441     2.000000     6.776507   \n",
       "50%       6.897705     4.000000     6.175867     2.000000     6.987490   \n",
       "75%       7.172425     4.000000     6.357842     3.000000     7.235979   \n",
       "max       8.717846     5.000000     7.305860     4.000000     8.536211   \n",
       "\n",
       "          FullBath  \n",
       "count  2919.000000  \n",
       "mean      0.919276  \n",
       "std       0.220712  \n",
       "min       0.000000  \n",
       "25%       0.693147  \n",
       "50%       1.098612  \n",
       "75%       1.098612  \n",
       "max       1.609438  "
      ]
     },
     "execution_count": 18,
     "metadata": {},
     "output_type": "execute_result"
    }
   ],
   "source": [
    "df.describe()"
   ]
  },
  {
   "cell_type": "code",
   "execution_count": 19,
   "metadata": {},
   "outputs": [
    {
     "data": {
      "text/html": [
       "<div>\n",
       "<style scoped>\n",
       "    .dataframe tbody tr th:only-of-type {\n",
       "        vertical-align: middle;\n",
       "    }\n",
       "\n",
       "    .dataframe tbody tr th {\n",
       "        vertical-align: top;\n",
       "    }\n",
       "\n",
       "    .dataframe thead th {\n",
       "        text-align: right;\n",
       "    }\n",
       "</style>\n",
       "<table border=\"1\" class=\"dataframe\">\n",
       "  <thead>\n",
       "    <tr style=\"text-align: right;\">\n",
       "      <th></th>\n",
       "      <th>OverallQual</th>\n",
       "      <th>ExterQual</th>\n",
       "      <th>Neighborhood</th>\n",
       "      <th>GarageCars</th>\n",
       "      <th>GrLivArea</th>\n",
       "      <th>YearBuilt</th>\n",
       "      <th>TotalBsmtSF</th>\n",
       "      <th>BsmtQual</th>\n",
       "      <th>GarageArea</th>\n",
       "      <th>KitchenQual</th>\n",
       "      <th>stFlrSF</th>\n",
       "      <th>FullBath</th>\n",
       "    </tr>\n",
       "  </thead>\n",
       "  <tbody>\n",
       "    <tr>\n",
       "      <th>0</th>\n",
       "      <td>7</td>\n",
       "      <td>3</td>\n",
       "      <td>CollgCr</td>\n",
       "      <td>1.098612</td>\n",
       "      <td>7.444833</td>\n",
       "      <td>2003</td>\n",
       "      <td>6.753438</td>\n",
       "      <td>4</td>\n",
       "      <td>6.308098</td>\n",
       "      <td>3</td>\n",
       "      <td>6.753438</td>\n",
       "      <td>1.098612</td>\n",
       "    </tr>\n",
       "    <tr>\n",
       "      <th>1</th>\n",
       "      <td>6</td>\n",
       "      <td>2</td>\n",
       "      <td>Veenker</td>\n",
       "      <td>1.098612</td>\n",
       "      <td>7.141245</td>\n",
       "      <td>1976</td>\n",
       "      <td>7.141245</td>\n",
       "      <td>4</td>\n",
       "      <td>6.133398</td>\n",
       "      <td>2</td>\n",
       "      <td>7.141245</td>\n",
       "      <td>1.098612</td>\n",
       "    </tr>\n",
       "    <tr>\n",
       "      <th>2</th>\n",
       "      <td>7</td>\n",
       "      <td>3</td>\n",
       "      <td>CollgCr</td>\n",
       "      <td>1.098612</td>\n",
       "      <td>7.488294</td>\n",
       "      <td>2001</td>\n",
       "      <td>6.825460</td>\n",
       "      <td>4</td>\n",
       "      <td>6.411818</td>\n",
       "      <td>3</td>\n",
       "      <td>6.825460</td>\n",
       "      <td>1.098612</td>\n",
       "    </tr>\n",
       "    <tr>\n",
       "      <th>3</th>\n",
       "      <td>7</td>\n",
       "      <td>2</td>\n",
       "      <td>Crawfor</td>\n",
       "      <td>1.386294</td>\n",
       "      <td>7.448916</td>\n",
       "      <td>1915</td>\n",
       "      <td>6.629363</td>\n",
       "      <td>3</td>\n",
       "      <td>6.466145</td>\n",
       "      <td>3</td>\n",
       "      <td>6.869014</td>\n",
       "      <td>0.693147</td>\n",
       "    </tr>\n",
       "    <tr>\n",
       "      <th>4</th>\n",
       "      <td>8</td>\n",
       "      <td>3</td>\n",
       "      <td>NoRidge</td>\n",
       "      <td>1.386294</td>\n",
       "      <td>7.695758</td>\n",
       "      <td>2000</td>\n",
       "      <td>7.044033</td>\n",
       "      <td>4</td>\n",
       "      <td>6.729824</td>\n",
       "      <td>3</td>\n",
       "      <td>7.044033</td>\n",
       "      <td>1.098612</td>\n",
       "    </tr>\n",
       "  </tbody>\n",
       "</table>\n",
       "</div>"
      ],
      "text/plain": [
       "   OverallQual  ExterQual Neighborhood  GarageCars  GrLivArea  YearBuilt  \\\n",
       "0            7          3      CollgCr    1.098612   7.444833       2003   \n",
       "1            6          2      Veenker    1.098612   7.141245       1976   \n",
       "2            7          3      CollgCr    1.098612   7.488294       2001   \n",
       "3            7          2      Crawfor    1.386294   7.448916       1915   \n",
       "4            8          3      NoRidge    1.386294   7.695758       2000   \n",
       "\n",
       "   TotalBsmtSF  BsmtQual  GarageArea  KitchenQual   stFlrSF  FullBath  \n",
       "0     6.753438         4    6.308098            3  6.753438  1.098612  \n",
       "1     7.141245         4    6.133398            2  7.141245  1.098612  \n",
       "2     6.825460         4    6.411818            3  6.825460  1.098612  \n",
       "3     6.629363         3    6.466145            3  6.869014  0.693147  \n",
       "4     7.044033         4    6.729824            3  7.044033  1.098612  "
      ]
     },
     "execution_count": 19,
     "metadata": {},
     "output_type": "execute_result"
    }
   ],
   "source": [
    "df.head()"
   ]
  },
  {
   "attachments": {},
   "cell_type": "markdown",
   "metadata": {},
   "source": [
    "### la colonne 'Neighborhood' mérite notre attention"
   ]
  },
  {
   "cell_type": "code",
   "execution_count": 20,
   "metadata": {},
   "outputs": [
    {
     "data": {
      "text/plain": [
       "NAmes      443\n",
       "CollgCr    267\n",
       "OldTown    239\n",
       "Edwards    194\n",
       "Somerst    182\n",
       "NridgHt    166\n",
       "Gilbert    165\n",
       "Sawyer     151\n",
       "NWAmes     131\n",
       "SawyerW    125\n",
       "Mitchel    114\n",
       "BrkSide    108\n",
       "Crawfor    103\n",
       "IDOTRR      93\n",
       "Timber      72\n",
       "NoRidge     71\n",
       "StoneBr     51\n",
       "SWISU       48\n",
       "ClearCr     44\n",
       "MeadowV     37\n",
       "BrDale      30\n",
       "Blmngtn     28\n",
       "Veenker     24\n",
       "NPkVill     23\n",
       "Blueste     10\n",
       "Name: Neighborhood, dtype: int64"
      ]
     },
     "execution_count": 20,
     "metadata": {},
     "output_type": "execute_result"
    }
   ],
   "source": [
    "df.Neighborhood.value_counts()"
   ]
  },
  {
   "cell_type": "code",
   "execution_count": 21,
   "metadata": {},
   "outputs": [
    {
     "data": {
      "text/plain": [
       "<matplotlib.collections.PathCollection at 0x175ca700220>"
      ]
     },
     "execution_count": 21,
     "metadata": {},
     "output_type": "execute_result"
    },
    {
     "data": {
      "image/png": "[encoded data removed]",
      "text/plain": [
       "<Figure size 432x288 with 1 Axes>"
      ]
     },
     "metadata": {
      "needs_background": "light"
     },
     "output_type": "display_data"
    }
   ],
   "source": [
    "plt.scatter(df.index, df['Neighborhood'])"
   ]
  },
  {
   "attachments": {},
   "cell_type": "markdown",
   "metadata": {},
   "source": [
    "Les données sont conformes. "
   ]
  },
  {
   "attachments": {},
   "cell_type": "markdown",
   "metadata": {},
   "source": [
    "# Préparation à la prédiction"
   ]
  },
  {
   "attachments": {},
   "cell_type": "markdown",
   "metadata": {},
   "source": [
    "### Encodage des données"
   ]
  },
  {
   "cell_type": "code",
   "execution_count": 22,
   "metadata": {},
   "outputs": [
    {
     "data": {
      "text/html": [
       "<div>\n",
       "<style scoped>\n",
       "    .dataframe tbody tr th:only-of-type {\n",
       "        vertical-align: middle;\n",
       "    }\n",
       "\n",
       "    .dataframe tbody tr th {\n",
       "        vertical-align: top;\n",
       "    }\n",
       "\n",
       "    .dataframe thead th {\n",
       "        text-align: right;\n",
       "    }\n",
       "</style>\n",
       "<table border=\"1\" class=\"dataframe\">\n",
       "  <thead>\n",
       "    <tr style=\"text-align: right;\">\n",
       "      <th></th>\n",
       "      <th>OverallQual</th>\n",
       "      <th>ExterQual</th>\n",
       "      <th>Neighborhood</th>\n",
       "      <th>GarageCars</th>\n",
       "      <th>GrLivArea</th>\n",
       "      <th>YearBuilt</th>\n",
       "      <th>TotalBsmtSF</th>\n",
       "      <th>BsmtQual</th>\n",
       "      <th>GarageArea</th>\n",
       "      <th>KitchenQual</th>\n",
       "      <th>stFlrSF</th>\n",
       "      <th>FullBath</th>\n",
       "    </tr>\n",
       "  </thead>\n",
       "  <tbody>\n",
       "    <tr>\n",
       "      <th>0</th>\n",
       "      <td>7</td>\n",
       "      <td>3</td>\n",
       "      <td>5</td>\n",
       "      <td>1.098612</td>\n",
       "      <td>7.444833</td>\n",
       "      <td>2003</td>\n",
       "      <td>6.753438</td>\n",
       "      <td>4</td>\n",
       "      <td>6.308098</td>\n",
       "      <td>3</td>\n",
       "      <td>6.753438</td>\n",
       "      <td>1.098612</td>\n",
       "    </tr>\n",
       "    <tr>\n",
       "      <th>1</th>\n",
       "      <td>6</td>\n",
       "      <td>2</td>\n",
       "      <td>24</td>\n",
       "      <td>1.098612</td>\n",
       "      <td>7.141245</td>\n",
       "      <td>1976</td>\n",
       "      <td>7.141245</td>\n",
       "      <td>4</td>\n",
       "      <td>6.133398</td>\n",
       "      <td>2</td>\n",
       "      <td>7.141245</td>\n",
       "      <td>1.098612</td>\n",
       "    </tr>\n",
       "    <tr>\n",
       "      <th>2</th>\n",
       "      <td>7</td>\n",
       "      <td>3</td>\n",
       "      <td>5</td>\n",
       "      <td>1.098612</td>\n",
       "      <td>7.488294</td>\n",
       "      <td>2001</td>\n",
       "      <td>6.825460</td>\n",
       "      <td>4</td>\n",
       "      <td>6.411818</td>\n",
       "      <td>3</td>\n",
       "      <td>6.825460</td>\n",
       "      <td>1.098612</td>\n",
       "    </tr>\n",
       "    <tr>\n",
       "      <th>3</th>\n",
       "      <td>7</td>\n",
       "      <td>2</td>\n",
       "      <td>6</td>\n",
       "      <td>1.386294</td>\n",
       "      <td>7.448916</td>\n",
       "      <td>1915</td>\n",
       "      <td>6.629363</td>\n",
       "      <td>3</td>\n",
       "      <td>6.466145</td>\n",
       "      <td>3</td>\n",
       "      <td>6.869014</td>\n",
       "      <td>0.693147</td>\n",
       "    </tr>\n",
       "    <tr>\n",
       "      <th>4</th>\n",
       "      <td>8</td>\n",
       "      <td>3</td>\n",
       "      <td>15</td>\n",
       "      <td>1.386294</td>\n",
       "      <td>7.695758</td>\n",
       "      <td>2000</td>\n",
       "      <td>7.044033</td>\n",
       "      <td>4</td>\n",
       "      <td>6.729824</td>\n",
       "      <td>3</td>\n",
       "      <td>7.044033</td>\n",
       "      <td>1.098612</td>\n",
       "    </tr>\n",
       "  </tbody>\n",
       "</table>\n",
       "</div>"
      ],
      "text/plain": [
       "   OverallQual  ExterQual  Neighborhood  GarageCars  GrLivArea  YearBuilt  \\\n",
       "0            7          3             5    1.098612   7.444833       2003   \n",
       "1            6          2            24    1.098612   7.141245       1976   \n",
       "2            7          3             5    1.098612   7.488294       2001   \n",
       "3            7          2             6    1.386294   7.448916       1915   \n",
       "4            8          3            15    1.386294   7.695758       2000   \n",
       "\n",
       "   TotalBsmtSF  BsmtQual  GarageArea  KitchenQual   stFlrSF  FullBath  \n",
       "0     6.753438         4    6.308098            3  6.753438  1.098612  \n",
       "1     7.141245         4    6.133398            2  7.141245  1.098612  \n",
       "2     6.825460         4    6.411818            3  6.825460  1.098612  \n",
       "3     6.629363         3    6.466145            3  6.869014  0.693147  \n",
       "4     7.044033         4    6.729824            3  7.044033  1.098612  "
      ]
     },
     "execution_count": 22,
     "metadata": {},
     "output_type": "execute_result"
    }
   ],
   "source": [
    "from sklearn.preprocessing import LabelEncoder\n",
    "le = LabelEncoder()\n",
    "\n",
    "# Il n'y a que la colonne Neighborhood qui a besoin d'être encodé\n",
    "df.Neighborhood = le.fit_transform(df.Neighborhood)\n",
    "\n",
    "df.head()"
   ]
  },
  {
   "attachments": {},
   "cell_type": "markdown",
   "metadata": {},
   "source": [
    "## Préparation de la machine"
   ]
  },
  {
   "cell_type": "code",
   "execution_count": 23,
   "metadata": {},
   "outputs": [],
   "source": [
    "from sklearn.model_selection import train_test_split\n",
    "from sklearn.preprocessing import StandardScaler\n",
    "\n",
    "from xgboost import XGBRegressor"
   ]
  },
  {
   "attachments": {},
   "cell_type": "markdown",
   "metadata": {},
   "source": [
    "### Reconstitution des données en ajoutant 'SalePrice' qui manquait dans 'clean_data.csv'"
   ]
  },
  {
   "cell_type": "code",
   "execution_count": 24,
   "metadata": {},
   "outputs": [],
   "source": [
    "price_data = pd.read_csv('sample_submission.csv')\n"
   ]
  },
  {
   "cell_type": "code",
   "execution_count": 25,
   "metadata": {},
   "outputs": [],
   "source": [
    "test = pd.read_csv('test.csv')\n",
    "train = pd.read_csv('train.csv')"
   ]
  },
  {
   "attachments": {},
   "cell_type": "markdown",
   "metadata": {},
   "source": [
    "### Association des deux fichiers 'train.csv' et 'test.csv'"
   ]
  },
  {
   "cell_type": "code",
   "execution_count": 26,
   "metadata": {},
   "outputs": [],
   "source": [
    "full_data = pd.concat((train, test)).sort_index(axis = 0).sort_values('Id')\n"
   ]
  },
  {
   "attachments": {},
   "cell_type": "markdown",
   "metadata": {},
   "source": [
    "On peut voir que le nombre de ligne a changé"
   ]
  },
  {
   "cell_type": "code",
   "execution_count": 27,
   "metadata": {},
   "outputs": [
    {
     "data": {
      "text/plain": [
       "(2919, 81)"
      ]
     },
     "execution_count": 27,
     "metadata": {},
     "output_type": "execute_result"
    }
   ],
   "source": [
    "full_data.shape"
   ]
  },
  {
   "attachments": {},
   "cell_type": "markdown",
   "metadata": {},
   "source": [
    "### On remplace les cases vides avec le prix minimum trouvé"
   ]
  },
  {
   "cell_type": "code",
   "execution_count": 28,
   "metadata": {},
   "outputs": [],
   "source": [
    "full_data['SalePrice'].fillna(34900 , inplace=True)"
   ]
  },
  {
   "attachments": {},
   "cell_type": "markdown",
   "metadata": {},
   "source": [
    "### Ajout de la colonne 'SalePrice' dans la dataFrame de 'clean_data.csv'"
   ]
  },
  {
   "cell_type": "code",
   "execution_count": 29,
   "metadata": {},
   "outputs": [],
   "source": [
    "df['SalePrice'] = full_data['SalePrice'].tolist()"
   ]
  },
  {
   "attachments": {},
   "cell_type": "markdown",
   "metadata": {},
   "source": [
    "On peut voir la colonne 'SalePrice' cette fois-ci"
   ]
  },
  {
   "cell_type": "code",
   "execution_count": 30,
   "metadata": {},
   "outputs": [
    {
     "data": {
      "text/html": [
       "<div>\n",
       "<style scoped>\n",
       "    .dataframe tbody tr th:only-of-type {\n",
       "        vertical-align: middle;\n",
       "    }\n",
       "\n",
       "    .dataframe tbody tr th {\n",
       "        vertical-align: top;\n",
       "    }\n",
       "\n",
       "    .dataframe thead th {\n",
       "        text-align: right;\n",
       "    }\n",
       "</style>\n",
       "<table border=\"1\" class=\"dataframe\">\n",
       "  <thead>\n",
       "    <tr style=\"text-align: right;\">\n",
       "      <th></th>\n",
       "      <th>OverallQual</th>\n",
       "      <th>ExterQual</th>\n",
       "      <th>Neighborhood</th>\n",
       "      <th>GarageCars</th>\n",
       "      <th>GrLivArea</th>\n",
       "      <th>YearBuilt</th>\n",
       "      <th>TotalBsmtSF</th>\n",
       "      <th>BsmtQual</th>\n",
       "      <th>GarageArea</th>\n",
       "      <th>KitchenQual</th>\n",
       "      <th>stFlrSF</th>\n",
       "      <th>FullBath</th>\n",
       "      <th>SalePrice</th>\n",
       "    </tr>\n",
       "  </thead>\n",
       "  <tbody>\n",
       "    <tr>\n",
       "      <th>0</th>\n",
       "      <td>7</td>\n",
       "      <td>3</td>\n",
       "      <td>5</td>\n",
       "      <td>1.098612</td>\n",
       "      <td>7.444833</td>\n",
       "      <td>2003</td>\n",
       "      <td>6.753438</td>\n",
       "      <td>4</td>\n",
       "      <td>6.308098</td>\n",
       "      <td>3</td>\n",
       "      <td>6.753438</td>\n",
       "      <td>1.098612</td>\n",
       "      <td>208500.0</td>\n",
       "    </tr>\n",
       "    <tr>\n",
       "      <th>1</th>\n",
       "      <td>6</td>\n",
       "      <td>2</td>\n",
       "      <td>24</td>\n",
       "      <td>1.098612</td>\n",
       "      <td>7.141245</td>\n",
       "      <td>1976</td>\n",
       "      <td>7.141245</td>\n",
       "      <td>4</td>\n",
       "      <td>6.133398</td>\n",
       "      <td>2</td>\n",
       "      <td>7.141245</td>\n",
       "      <td>1.098612</td>\n",
       "      <td>181500.0</td>\n",
       "    </tr>\n",
       "    <tr>\n",
       "      <th>2</th>\n",
       "      <td>7</td>\n",
       "      <td>3</td>\n",
       "      <td>5</td>\n",
       "      <td>1.098612</td>\n",
       "      <td>7.488294</td>\n",
       "      <td>2001</td>\n",
       "      <td>6.825460</td>\n",
       "      <td>4</td>\n",
       "      <td>6.411818</td>\n",
       "      <td>3</td>\n",
       "      <td>6.825460</td>\n",
       "      <td>1.098612</td>\n",
       "      <td>223500.0</td>\n",
       "    </tr>\n",
       "    <tr>\n",
       "      <th>3</th>\n",
       "      <td>7</td>\n",
       "      <td>2</td>\n",
       "      <td>6</td>\n",
       "      <td>1.386294</td>\n",
       "      <td>7.448916</td>\n",
       "      <td>1915</td>\n",
       "      <td>6.629363</td>\n",
       "      <td>3</td>\n",
       "      <td>6.466145</td>\n",
       "      <td>3</td>\n",
       "      <td>6.869014</td>\n",
       "      <td>0.693147</td>\n",
       "      <td>140000.0</td>\n",
       "    </tr>\n",
       "    <tr>\n",
       "      <th>4</th>\n",
       "      <td>8</td>\n",
       "      <td>3</td>\n",
       "      <td>15</td>\n",
       "      <td>1.386294</td>\n",
       "      <td>7.695758</td>\n",
       "      <td>2000</td>\n",
       "      <td>7.044033</td>\n",
       "      <td>4</td>\n",
       "      <td>6.729824</td>\n",
       "      <td>3</td>\n",
       "      <td>7.044033</td>\n",
       "      <td>1.098612</td>\n",
       "      <td>250000.0</td>\n",
       "    </tr>\n",
       "  </tbody>\n",
       "</table>\n",
       "</div>"
      ],
      "text/plain": [
       "   OverallQual  ExterQual  Neighborhood  GarageCars  GrLivArea  YearBuilt  \\\n",
       "0            7          3             5    1.098612   7.444833       2003   \n",
       "1            6          2            24    1.098612   7.141245       1976   \n",
       "2            7          3             5    1.098612   7.488294       2001   \n",
       "3            7          2             6    1.386294   7.448916       1915   \n",
       "4            8          3            15    1.386294   7.695758       2000   \n",
       "\n",
       "   TotalBsmtSF  BsmtQual  GarageArea  KitchenQual   stFlrSF  FullBath  \\\n",
       "0     6.753438         4    6.308098            3  6.753438  1.098612   \n",
       "1     7.141245         4    6.133398            2  7.141245  1.098612   \n",
       "2     6.825460         4    6.411818            3  6.825460  1.098612   \n",
       "3     6.629363         3    6.466145            3  6.869014  0.693147   \n",
       "4     7.044033         4    6.729824            3  7.044033  1.098612   \n",
       "\n",
       "   SalePrice  \n",
       "0   208500.0  \n",
       "1   181500.0  \n",
       "2   223500.0  \n",
       "3   140000.0  \n",
       "4   250000.0  "
      ]
     },
     "execution_count": 30,
     "metadata": {},
     "output_type": "execute_result"
    }
   ],
   "source": [
    "df.head()"
   ]
  },
  {
   "cell_type": "code",
   "execution_count": 31,
   "metadata": {},
   "outputs": [
    {
     "data": {
      "text/html": [
       "<div>\n",
       "<style scoped>\n",
       "    .dataframe tbody tr th:only-of-type {\n",
       "        vertical-align: middle;\n",
       "    }\n",
       "\n",
       "    .dataframe tbody tr th {\n",
       "        vertical-align: top;\n",
       "    }\n",
       "\n",
       "    .dataframe thead th {\n",
       "        text-align: right;\n",
       "    }\n",
       "</style>\n",
       "<table border=\"1\" class=\"dataframe\">\n",
       "  <thead>\n",
       "    <tr style=\"text-align: right;\">\n",
       "      <th></th>\n",
       "      <th>OverallQual</th>\n",
       "      <th>ExterQual</th>\n",
       "      <th>Neighborhood</th>\n",
       "      <th>GarageCars</th>\n",
       "      <th>GrLivArea</th>\n",
       "      <th>YearBuilt</th>\n",
       "      <th>TotalBsmtSF</th>\n",
       "      <th>BsmtQual</th>\n",
       "      <th>GarageArea</th>\n",
       "      <th>KitchenQual</th>\n",
       "      <th>stFlrSF</th>\n",
       "      <th>FullBath</th>\n",
       "      <th>SalePrice</th>\n",
       "    </tr>\n",
       "  </thead>\n",
       "  <tbody>\n",
       "    <tr>\n",
       "      <th>count</th>\n",
       "      <td>2919.000000</td>\n",
       "      <td>2919.000000</td>\n",
       "      <td>2919.000000</td>\n",
       "      <td>2919.000000</td>\n",
       "      <td>2919.000000</td>\n",
       "      <td>2919.000000</td>\n",
       "      <td>2919.000000</td>\n",
       "      <td>2919.000000</td>\n",
       "      <td>2919.000000</td>\n",
       "      <td>2919.000000</td>\n",
       "      <td>2919.000000</td>\n",
       "      <td>2919.000000</td>\n",
       "      <td>2919.00000</td>\n",
       "    </tr>\n",
       "    <tr>\n",
       "      <th>mean</th>\n",
       "      <td>6.089072</td>\n",
       "      <td>2.396711</td>\n",
       "      <td>12.437136</td>\n",
       "      <td>0.971629</td>\n",
       "      <td>7.261502</td>\n",
       "      <td>1971.312778</td>\n",
       "      <td>6.730833</td>\n",
       "      <td>3.479616</td>\n",
       "      <td>5.814763</td>\n",
       "      <td>2.510791</td>\n",
       "      <td>7.004186</td>\n",
       "      <td>0.919276</td>\n",
       "      <td>107935.61014</td>\n",
       "    </tr>\n",
       "    <tr>\n",
       "      <th>std</th>\n",
       "      <td>1.409947</td>\n",
       "      <td>0.580293</td>\n",
       "      <td>5.957992</td>\n",
       "      <td>0.323623</td>\n",
       "      <td>0.324750</td>\n",
       "      <td>30.291442</td>\n",
       "      <td>1.182460</td>\n",
       "      <td>0.900943</td>\n",
       "      <td>1.435658</td>\n",
       "      <td>0.662159</td>\n",
       "      <td>0.322650</td>\n",
       "      <td>0.220712</td>\n",
       "      <td>92129.95821</td>\n",
       "    </tr>\n",
       "    <tr>\n",
       "      <th>min</th>\n",
       "      <td>1.000000</td>\n",
       "      <td>1.000000</td>\n",
       "      <td>0.000000</td>\n",
       "      <td>0.000000</td>\n",
       "      <td>5.814131</td>\n",
       "      <td>1872.000000</td>\n",
       "      <td>0.000000</td>\n",
       "      <td>0.000000</td>\n",
       "      <td>0.000000</td>\n",
       "      <td>1.000000</td>\n",
       "      <td>5.814131</td>\n",
       "      <td>0.000000</td>\n",
       "      <td>34900.00000</td>\n",
       "    </tr>\n",
       "    <tr>\n",
       "      <th>25%</th>\n",
       "      <td>5.000000</td>\n",
       "      <td>2.000000</td>\n",
       "      <td>7.000000</td>\n",
       "      <td>0.693147</td>\n",
       "      <td>7.027315</td>\n",
       "      <td>1953.500000</td>\n",
       "      <td>6.677083</td>\n",
       "      <td>3.000000</td>\n",
       "      <td>5.771441</td>\n",
       "      <td>2.000000</td>\n",
       "      <td>6.776507</td>\n",
       "      <td>0.693147</td>\n",
       "      <td>34900.00000</td>\n",
       "    </tr>\n",
       "    <tr>\n",
       "      <th>50%</th>\n",
       "      <td>6.000000</td>\n",
       "      <td>2.000000</td>\n",
       "      <td>12.000000</td>\n",
       "      <td>1.098612</td>\n",
       "      <td>7.275865</td>\n",
       "      <td>1973.000000</td>\n",
       "      <td>6.897705</td>\n",
       "      <td>4.000000</td>\n",
       "      <td>6.175867</td>\n",
       "      <td>2.000000</td>\n",
       "      <td>6.987490</td>\n",
       "      <td>1.098612</td>\n",
       "      <td>34900.00000</td>\n",
       "    </tr>\n",
       "    <tr>\n",
       "      <th>75%</th>\n",
       "      <td>7.000000</td>\n",
       "      <td>3.000000</td>\n",
       "      <td>17.000000</td>\n",
       "      <td>1.098612</td>\n",
       "      <td>7.464223</td>\n",
       "      <td>2001.000000</td>\n",
       "      <td>7.172425</td>\n",
       "      <td>4.000000</td>\n",
       "      <td>6.357842</td>\n",
       "      <td>3.000000</td>\n",
       "      <td>7.235979</td>\n",
       "      <td>1.098612</td>\n",
       "      <td>163000.00000</td>\n",
       "    </tr>\n",
       "    <tr>\n",
       "      <th>max</th>\n",
       "      <td>10.000000</td>\n",
       "      <td>4.000000</td>\n",
       "      <td>24.000000</td>\n",
       "      <td>1.791759</td>\n",
       "      <td>8.638171</td>\n",
       "      <td>2010.000000</td>\n",
       "      <td>8.717846</td>\n",
       "      <td>5.000000</td>\n",
       "      <td>7.305860</td>\n",
       "      <td>4.000000</td>\n",
       "      <td>8.536211</td>\n",
       "      <td>1.609438</td>\n",
       "      <td>755000.00000</td>\n",
       "    </tr>\n",
       "  </tbody>\n",
       "</table>\n",
       "</div>"
      ],
      "text/plain": [
       "       OverallQual    ExterQual  Neighborhood   GarageCars    GrLivArea  \\\n",
       "count  2919.000000  2919.000000   2919.000000  2919.000000  2919.000000   \n",
       "mean      6.089072     2.396711     12.437136     0.971629     7.261502   \n",
       "std       1.409947     0.580293      5.957992     0.323623     0.324750   \n",
       "min       1.000000     1.000000      0.000000     0.000000     5.814131   \n",
       "25%       5.000000     2.000000      7.000000     0.693147     7.027315   \n",
       "50%       6.000000     2.000000     12.000000     1.098612     7.275865   \n",
       "75%       7.000000     3.000000     17.000000     1.098612     7.464223   \n",
       "max      10.000000     4.000000     24.000000     1.791759     8.638171   \n",
       "\n",
       "         YearBuilt  TotalBsmtSF     BsmtQual   GarageArea  KitchenQual  \\\n",
       "count  2919.000000  2919.000000  2919.000000  2919.000000  2919.000000   \n",
       "mean   1971.312778     6.730833     3.479616     5.814763     2.510791   \n",
       "std      30.291442     1.182460     0.900943     1.435658     0.662159   \n",
       "min    1872.000000     0.000000     0.000000     0.000000     1.000000   \n",
       "25%    1953.500000     6.677083     3.000000     5.771441     2.000000   \n",
       "50%    1973.000000     6.897705     4.000000     6.175867     2.000000   \n",
       "75%    2001.000000     7.172425     4.000000     6.357842     3.000000   \n",
       "max    2010.000000     8.717846     5.000000     7.305860     4.000000   \n",
       "\n",
       "           stFlrSF     FullBath     SalePrice  \n",
       "count  2919.000000  2919.000000    2919.00000  \n",
       "mean      7.004186     0.919276  107935.61014  \n",
       "std       0.322650     0.220712   92129.95821  \n",
       "min       5.814131     0.000000   34900.00000  \n",
       "25%       6.776507     0.693147   34900.00000  \n",
       "50%       6.987490     1.098612   34900.00000  \n",
       "75%       7.235979     1.098612  163000.00000  \n",
       "max       8.536211     1.609438  755000.00000  "
      ]
     },
     "execution_count": 31,
     "metadata": {},
     "output_type": "execute_result"
    }
   ],
   "source": [
    "df.describe()"
   ]
  },
  {
   "cell_type": "code",
   "execution_count": 32,
   "metadata": {},
   "outputs": [],
   "source": [
    "x = df.drop('SalePrice', axis=1)\n",
    "y = df['SalePrice']"
   ]
  },
  {
   "cell_type": "code",
   "execution_count": 33,
   "metadata": {},
   "outputs": [],
   "source": [
    "sc = StandardScaler()\n",
    "x = sc.fit_transform(x)\n",
    "\n",
    "X_train, X_test, y_train, y_test = train_test_split(x, y, test_size=0.3, shuffle=True, random_state=0)"
   ]
  },
  {
   "cell_type": "code",
   "execution_count": 34,
   "metadata": {},
   "outputs": [
    {
     "data": {
      "text/html": [
       "<style>#sk-container-id-1 {color: black;background-color: white;}#sk-container-id-1 pre{padding: 0;}#sk-container-id-1 div.sk-toggleable {background-color: white;}#sk-container-id-1 label.sk-toggleable__label {cursor: pointer;display: block;width: 100%;margin-bottom: 0;padding: 0.3em;box-sizing: border-box;text-align: center;}#sk-container-id-1 label.sk-toggleable__label-arrow:before {content: \"▸\";float: left;margin-right: 0.25em;color: #696969;}#sk-container-id-1 label.sk-toggleable__label-arrow:hover:before {color: black;}#sk-container-id-1 div.sk-estimator:hover label.sk-toggleable__label-arrow:before {color: black;}#sk-container-id-1 div.sk-toggleable__content {max-height: 0;max-width: 0;overflow: hidden;text-align: left;background-color: #f0f8ff;}#sk-container-id-1 div.sk-toggleable__content pre {margin: 0.2em;color: black;border-radius: 0.25em;background-color: #f0f8ff;}#sk-container-id-1 input.sk-toggleable__control:checked~div.sk-toggleable__content {max-height: 200px;max-width: 100%;overflow: auto;}#sk-container-id-1 input.sk-toggleable__control:checked~label.sk-toggleable__label-arrow:before {content: \"▾\";}#sk-container-id-1 div.sk-estimator input.sk-toggleable__control:checked~label.sk-toggleable__label {background-color: #d4ebff;}#sk-container-id-1 div.sk-label input.sk-toggleable__control:checked~label.sk-toggleable__label {background-color: #d4ebff;}#sk-container-id-1 input.sk-hidden--visually {border: 0;clip: rect(1px 1px 1px 1px);clip: rect(1px, 1px, 1px, 1px);height: 1px;margin: -1px;overflow: hidden;padding: 0;position: absolute;width: 1px;}#sk-container-id-1 div.sk-estimator {font-family: monospace;background-color: #f0f8ff;border: 1px dotted black;border-radius: 0.25em;box-sizing: border-box;margin-bottom: 0.5em;}#sk-container-id-1 div.sk-estimator:hover {background-color: #d4ebff;}#sk-container-id-1 div.sk-parallel-item::after {content: \"\";width: 100%;border-bottom: 1px solid gray;flex-grow: 1;}#sk-container-id-1 div.sk-label:hover label.sk-toggleable__label {background-color: #d4ebff;}#sk-container-id-1 div.sk-serial::before {content: \"\";position: absolute;border-left: 1px solid gray;box-sizing: border-box;top: 0;bottom: 0;left: 50%;z-index: 0;}#sk-container-id-1 div.sk-serial {display: flex;flex-direction: column;align-items: center;background-color: white;padding-right: 0.2em;padding-left: 0.2em;position: relative;}#sk-container-id-1 div.sk-item {position: relative;z-index: 1;}#sk-container-id-1 div.sk-parallel {display: flex;align-items: stretch;justify-content: center;background-color: white;position: relative;}#sk-container-id-1 div.sk-item::before, #sk-container-id-1 div.sk-parallel-item::before {content: \"\";position: absolute;border-left: 1px solid gray;box-sizing: border-box;top: 0;bottom: 0;left: 50%;z-index: -1;}#sk-container-id-1 div.sk-parallel-item {display: flex;flex-direction: column;z-index: 1;position: relative;background-color: white;}#sk-container-id-1 div.sk-parallel-item:first-child::after {align-self: flex-end;width: 50%;}#sk-container-id-1 div.sk-parallel-item:last-child::after {align-self: flex-start;width: 50%;}#sk-container-id-1 div.sk-parallel-item:only-child::after {width: 0;}#sk-container-id-1 div.sk-dashed-wrapped {border: 1px dashed gray;margin: 0 0.4em 0.5em 0.4em;box-sizing: border-box;padding-bottom: 0.4em;background-color: white;}#sk-container-id-1 div.sk-label label {font-family: monospace;font-weight: bold;display: inline-block;line-height: 1.2em;}#sk-container-id-1 div.sk-label-container {text-align: center;}#sk-container-id-1 div.sk-container {/* jupyter's `normalize.less` sets `[hidden] { display: none; }` but bootstrap.min.css set `[hidden] { display: none !important; }` so we also need the `!important` here to be able to override the default hidden behavior on the sphinx rendered scikit-learn.org. See: https://github.com/scikit-learn/scikit-learn/issues/21755 */display: inline-block !important;position: relative;}#sk-container-id-1 div.sk-text-repr-fallback {display: none;}</style><div id=\"sk-container-id-1\" class=\"sk-top-container\"><div class=\"sk-text-repr-fallback\"><pre>XGBRegressor(base_score=None, booster=None, callbacks=None,\n",
       "             colsample_bylevel=None, colsample_bynode=None,\n",
       "             colsample_bytree=None, early_stopping_rounds=None,\n",
       "             enable_categorical=False, eval_metric=None, feature_types=None,\n",
       "             gamma=None, gpu_id=None, grow_policy=None, importance_type=None,\n",
       "             interaction_constraints=None, learning_rate=None, max_bin=None,\n",
       "             max_cat_threshold=None, max_cat_to_onehot=None,\n",
       "             max_delta_step=None, max_depth=None, max_leaves=None,\n",
       "             min_child_weight=None, missing=nan, monotone_constraints=None,\n",
       "             n_estimators=100, n_jobs=None, num_parallel_tree=None,\n",
       "             predictor=None, random_state=None, ...)</pre><b>In a Jupyter environment, please rerun this cell to show the HTML representation or trust the notebook. <br />On GitHub, the HTML representation is unable to render, please try loading this page with nbviewer.org.</b></div><div class=\"sk-container\" hidden><div class=\"sk-item\"><div class=\"sk-estimator sk-toggleable\"><input class=\"sk-toggleable__control sk-hidden--visually\" id=\"sk-estimator-id-1\" type=\"checkbox\" checked><label for=\"sk-estimator-id-1\" class=\"sk-toggleable__label sk-toggleable__label-arrow\">XGBRegressor</label><div class=\"sk-toggleable__content\"><pre>XGBRegressor(base_score=None, booster=None, callbacks=None,\n",
       "             colsample_bylevel=None, colsample_bynode=None,\n",
       "             colsample_bytree=None, early_stopping_rounds=None,\n",
       "             enable_categorical=False, eval_metric=None, feature_types=None,\n",
       "             gamma=None, gpu_id=None, grow_policy=None, importance_type=None,\n",
       "             interaction_constraints=None, learning_rate=None, max_bin=None,\n",
       "             max_cat_threshold=None, max_cat_to_onehot=None,\n",
       "             max_delta_step=None, max_depth=None, max_leaves=None,\n",
       "             min_child_weight=None, missing=nan, monotone_constraints=None,\n",
       "             n_estimators=100, n_jobs=None, num_parallel_tree=None,\n",
       "             predictor=None, random_state=None, ...)</pre></div></div></div></div></div>"
      ],
      "text/plain": [
       "XGBRegressor(base_score=None, booster=None, callbacks=None,\n",
       "             colsample_bylevel=None, colsample_bynode=None,\n",
       "             colsample_bytree=None, early_stopping_rounds=None,\n",
       "             enable_categorical=False, eval_metric=None, feature_types=None,\n",
       "             gamma=None, gpu_id=None, grow_policy=None, importance_type=None,\n",
       "             interaction_constraints=None, learning_rate=None, max_bin=None,\n",
       "             max_cat_threshold=None, max_cat_to_onehot=None,\n",
       "             max_delta_step=None, max_depth=None, max_leaves=None,\n",
       "             min_child_weight=None, missing=nan, monotone_constraints=None,\n",
       "             n_estimators=100, n_jobs=None, num_parallel_tree=None,\n",
       "             predictor=None, random_state=None, ...)"
      ]
     },
     "execution_count": 34,
     "metadata": {},
     "output_type": "execute_result"
    }
   ],
   "source": [
    "xgb = XGBRegressor()\n",
    "xgb.fit(X_train, y_train)"
   ]
  },
  {
   "attachments": {},
   "cell_type": "markdown",
   "metadata": {},
   "source": [
    "# Prédictions de 'X_test'"
   ]
  },
  {
   "cell_type": "code",
   "execution_count": 35,
   "metadata": {},
   "outputs": [],
   "source": [
    "predictions = xgb.predict(X_test)"
   ]
  },
  {
   "cell_type": "code",
   "execution_count": 36,
   "metadata": {},
   "outputs": [],
   "source": [
    "diff = y_test - predictions"
   ]
  },
  {
   "attachments": {},
   "cell_type": "markdown",
   "metadata": {},
   "source": [
    "## Visualisation de la différence"
   ]
  },
  {
   "cell_type": "code",
   "execution_count": 37,
   "metadata": {},
   "outputs": [
    {
     "name": "stderr",
     "output_type": "stream",
     "text": [
      "C:\\Users\\AshWindows\\AppData\\Local\\Temp\\ipykernel_16520\\668418042.py:2: UserWarning: \n",
      "\n",
      "`distplot` is a deprecated function and will be removed in seaborn v0.14.0.\n",
      "\n",
      "Please adapt your code to use either `displot` (a figure-level function with\n",
      "similar flexibility) or `histplot` (an axes-level function for histograms).\n",
      "\n",
      "For a guide to updating your code to use the new functions, please see\n",
      "https://gist.github.com/mwaskom/de44147ed2974457ad6372750bbe5751\n",
      "\n",
      "  sns.distplot(diff)\n"
     ]
    },
    {
     "data": {
      "text/plain": [
       "<Axes: xlabel='SalePrice', ylabel='Density'>"
      ]
     },
     "execution_count": 37,
     "metadata": {},
     "output_type": "execute_result"
    },
    {
     "data": {
      "image/png": "[encoded data removed]",
      "text/plain": [
       "<Figure size 864x432 with 1 Axes>"
      ]
     },
     "metadata": {
      "needs_background": "light"
     },
     "output_type": "display_data"
    }
   ],
   "source": [
    "plt.figure(figsize = (12,6))\n",
    "sns.distplot(diff)"
   ]
  },
  {
   "attachments": {},
   "cell_type": "markdown",
   "metadata": {},
   "source": [
    "# Vérification du score R^2\n"
   ]
  },
  {
   "cell_type": "code",
   "execution_count": 38,
   "metadata": {},
   "outputs": [
    {
     "name": "stdout",
     "output_type": "stream",
     "text": [
      "XGBoost R2 Score:  -0.10681738300794552\n"
     ]
    }
   ],
   "source": [
    "xgb_r2_score = xgb.score(X_test, y_test)\n",
    "\n",
    "print(\"XGBoost R2 Score: \", (xgb_r2_score))"
   ]
  },
  {
   "cell_type": "code",
   "execution_count": 39,
   "metadata": {},
   "outputs": [],
   "source": [
    "pickle.dump(xgb, open('regression_model.sav', 'wb'))"
   ]
  },
  {
   "cell_type": "code",
   "execution_count": null,
   "metadata": {},
   "outputs": [],
   "source": []
  }
 ],
 "metadata": {
  "kernelspec": {
   "display_name": "Python 3",
   "language": "python",
   "name": "python3"
  },
  "language_info": {
   "codemirror_mode": {
    "name": "ipython",
    "version": 3
   },
   "file_extension": ".py",
   "mimetype": "text/x-python",
   "name": "python",
   "nbconvert_exporter": "python",
   "pygments_lexer": "ipython3",
   "version": "3.10.4"
  },
  "orig_nbformat": 4
 },
 "nbformat": 4,
 "nbformat_minor": 2
}
